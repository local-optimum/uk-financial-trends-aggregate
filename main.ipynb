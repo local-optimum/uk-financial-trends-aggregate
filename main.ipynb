{
 "cells": [
  {
   "cell_type": "markdown",
   "metadata": {},
   "source": [
    "# Uk Financial Trends Aggregate\n",
    "\n",
    "Data aggregation of:\n",
    "\n",
    "- Inflation Rates (Consumer Price Index)\n",
    "- House Prices\n",
    "- Bitcoin (in GBP)\n",
    "- Gold Prices (in GBP)\n",
    "- FTSE 100\n",
    "- Money Supply\n"
   ]
  },
  {
   "cell_type": "markdown",
   "metadata": {},
   "source": [
    "### Import Modules"
   ]
  },
  {
   "cell_type": "code",
   "execution_count": 175,
   "metadata": {},
   "outputs": [],
   "source": [
    "#Dataframes & datetime\n",
    "import pandas as pd\n",
    "from datetime import datetime\n",
    "#Visualisation\n",
    "import matplotlib.pyplot as plt\n",
    "\n",
    "#For stocks & gold prices\n",
    "import yfinance as yf\n",
    "\n",
    "#For inflation and house prices\n",
    "from SPARQLWrapper import SPARQLWrapper, JSON\n",
    "import sparql_dataframe\n",
    "\n"
   ]
  },
  {
   "cell_type": "markdown",
   "metadata": {},
   "source": [
    "### Set Date Range"
   ]
  },
  {
   "cell_type": "code",
   "execution_count": 189,
   "metadata": {},
   "outputs": [
    {
     "name": "stdout",
     "output_type": "stream",
     "text": [
      "2016-01-01\n",
      "2022-01-09\n"
     ]
    }
   ],
   "source": [
    "enddate = datetime.today().strftime(\"%Y-%m-%d\")\n",
    "startdate = \"2016-01-01\"\n",
    "print(startdate)\n",
    "print(enddate)\n"
   ]
  },
  {
   "cell_type": "markdown",
   "metadata": {},
   "source": [
    "## House Price Index"
   ]
  },
  {
   "cell_type": "markdown",
   "metadata": {},
   "source": [
    "Query [HM Land Registry Open Data](https://landregistry.data.gov.uk/app/qonsole#)"
   ]
  },
  {
   "cell_type": "code",
   "execution_count": 188,
   "metadata": {},
   "outputs": [
    {
     "data": {
      "text/html": [
       "<div>\n",
       "<style scoped>\n",
       "    .dataframe tbody tr th:only-of-type {\n",
       "        vertical-align: middle;\n",
       "    }\n",
       "\n",
       "    .dataframe tbody tr th {\n",
       "        vertical-align: top;\n",
       "    }\n",
       "\n",
       "    .dataframe thead th {\n",
       "        text-align: right;\n",
       "    }\n",
       "</style>\n",
       "<table border=\"1\" class=\"dataframe\">\n",
       "  <thead>\n",
       "    <tr style=\"text-align: right;\">\n",
       "      <th></th>\n",
       "      <th>region</th>\n",
       "      <th>date</th>\n",
       "      <th>hpi</th>\n",
       "      <th>percent</th>\n",
       "    </tr>\n",
       "  </thead>\n",
       "  <tbody>\n",
       "    <tr>\n",
       "      <th>19517</th>\n",
       "      <td>http://landregistry.data.gov.uk/data/ukhpi/reg...</td>\n",
       "      <td>2016-02-01</td>\n",
       "      <td>91.49</td>\n",
       "      <td>-1.89</td>\n",
       "    </tr>\n",
       "    <tr>\n",
       "      <th>19326</th>\n",
       "      <td>http://landregistry.data.gov.uk/data/ukhpi/reg...</td>\n",
       "      <td>2016-02-01</td>\n",
       "      <td>102.61</td>\n",
       "      <td>-2.02</td>\n",
       "    </tr>\n",
       "    <tr>\n",
       "      <th>23289</th>\n",
       "      <td>http://landregistry.data.gov.uk/data/ukhpi/reg...</td>\n",
       "      <td>2016-02-01</td>\n",
       "      <td>103.57</td>\n",
       "      <td>-0.73</td>\n",
       "    </tr>\n",
       "    <tr>\n",
       "      <th>26142</th>\n",
       "      <td>http://landregistry.data.gov.uk/data/ukhpi/reg...</td>\n",
       "      <td>2016-02-01</td>\n",
       "      <td>106.63</td>\n",
       "      <td>-0.32</td>\n",
       "    </tr>\n",
       "    <tr>\n",
       "      <th>9305</th>\n",
       "      <td>http://landregistry.data.gov.uk/data/ukhpi/reg...</td>\n",
       "      <td>2016-02-01</td>\n",
       "      <td>114.35</td>\n",
       "      <td>0.98</td>\n",
       "    </tr>\n",
       "    <tr>\n",
       "      <th>...</th>\n",
       "      <td>...</td>\n",
       "      <td>...</td>\n",
       "      <td>...</td>\n",
       "      <td>...</td>\n",
       "    </tr>\n",
       "    <tr>\n",
       "      <th>17716</th>\n",
       "      <td>http://landregistry.data.gov.uk/data/ukhpi/reg...</td>\n",
       "      <td>2021-10-01</td>\n",
       "      <td>145.87</td>\n",
       "      <td>3.85</td>\n",
       "    </tr>\n",
       "    <tr>\n",
       "      <th>17717</th>\n",
       "      <td>http://landregistry.data.gov.uk/data/ukhpi/reg...</td>\n",
       "      <td>2021-10-01</td>\n",
       "      <td>151.28</td>\n",
       "      <td>3.85</td>\n",
       "    </tr>\n",
       "    <tr>\n",
       "      <th>23402</th>\n",
       "      <td>http://landregistry.data.gov.uk/data/ukhpi/reg...</td>\n",
       "      <td>2021-10-01</td>\n",
       "      <td>143.86</td>\n",
       "      <td>-0.72</td>\n",
       "    </tr>\n",
       "    <tr>\n",
       "      <th>17565</th>\n",
       "      <td>http://landregistry.data.gov.uk/data/ukhpi/reg...</td>\n",
       "      <td>2021-10-01</td>\n",
       "      <td>140.78</td>\n",
       "      <td>3.55</td>\n",
       "    </tr>\n",
       "    <tr>\n",
       "      <th>29024</th>\n",
       "      <td>http://landregistry.data.gov.uk/data/ukhpi/reg...</td>\n",
       "      <td>2021-10-01</td>\n",
       "      <td>132.48</td>\n",
       "      <td>-0.01</td>\n",
       "    </tr>\n",
       "  </tbody>\n",
       "</table>\n",
       "<p>29025 rows × 4 columns</p>\n",
       "</div>"
      ],
      "text/plain": [
       "                                                  region        date     hpi  \\\n",
       "19517  http://landregistry.data.gov.uk/data/ukhpi/reg...  2016-02-01   91.49   \n",
       "19326  http://landregistry.data.gov.uk/data/ukhpi/reg...  2016-02-01  102.61   \n",
       "23289  http://landregistry.data.gov.uk/data/ukhpi/reg...  2016-02-01  103.57   \n",
       "26142  http://landregistry.data.gov.uk/data/ukhpi/reg...  2016-02-01  106.63   \n",
       "9305   http://landregistry.data.gov.uk/data/ukhpi/reg...  2016-02-01  114.35   \n",
       "...                                                  ...         ...     ...   \n",
       "17716  http://landregistry.data.gov.uk/data/ukhpi/reg...  2021-10-01  145.87   \n",
       "17717  http://landregistry.data.gov.uk/data/ukhpi/reg...  2021-10-01  151.28   \n",
       "23402  http://landregistry.data.gov.uk/data/ukhpi/reg...  2021-10-01  143.86   \n",
       "17565  http://landregistry.data.gov.uk/data/ukhpi/reg...  2021-10-01  140.78   \n",
       "29024  http://landregistry.data.gov.uk/data/ukhpi/reg...  2021-10-01  132.48   \n",
       "\n",
       "       percent  \n",
       "19517    -1.89  \n",
       "19326    -2.02  \n",
       "23289    -0.73  \n",
       "26142    -0.32  \n",
       "9305      0.98  \n",
       "...        ...  \n",
       "17716     3.85  \n",
       "17717     3.85  \n",
       "23402    -0.72  \n",
       "17565     3.55  \n",
       "29024    -0.01  \n",
       "\n",
       "[29025 rows x 4 columns]"
      ]
     },
     "execution_count": 188,
     "metadata": {},
     "output_type": "execute_result"
    }
   ],
   "source": [
    "endpoint = \"http://landregistry.data.gov.uk/landregistry/query\"\n",
    "\n",
    "q = \"\"\"\n",
    "    prefix rdf: <http://www.w3.org/1999/02/22-rdf-syntax-ns#>\n",
    "    prefix rdfs: <http://www.w3.org/2000/01/rdf-schema#>\n",
    "    prefix owl: <http://www.w3.org/2002/07/owl#>\n",
    "    prefix xsd: <http://www.w3.org/2001/XMLSchema#>\n",
    "    prefix sr: <http://data.ordnancesurvey.co.uk/ontology/spatialrelations/>\n",
    "    prefix ukhpi: <http://landregistry.data.gov.uk/def/ukhpi/>\n",
    "    prefix lrppi: <http://landregistry.data.gov.uk/def/ppi/>\n",
    "    prefix skos: <http://www.w3.org/2004/02/skos/core#>\n",
    "    prefix lrcommon: <http://landregistry.data.gov.uk/def/common/>\n",
    "\n",
    "    # House price index for all regions within a given date range\n",
    "    SELECT ?region ?date ?hpi ?percent\n",
    "    {\n",
    "    ?region ukhpi:refPeriodStart ?date ;\n",
    "             ukhpi:housePriceIndex ?hpi ;\n",
    "             ukhpi:percentageChange ?percent\n",
    "    FILTER (\n",
    "        ?date > \"2016-01-01\"^^xsd:date &&\n",
    "        ?date < \"2021-12-31\"^^xsd:date\n",
    "    )\n",
    "    }\n",
    "    \n",
    "\"\"\"\n",
    "\n",
    "df = sparql_dataframe.get(endpoint, q)\n",
    "df.sort_values('date')\n"
   ]
  },
  {
   "cell_type": "markdown",
   "metadata": {},
   "source": [
    "## Gold Price in GBP"
   ]
  },
  {
   "cell_type": "markdown",
   "metadata": {},
   "source": [
    "Querying Yahoo finance for GLD and then currency converting using yahoo finance GBP/USD exchange rate\n",
    "Normalised into percentage change"
   ]
  },
  {
   "cell_type": "code",
   "execution_count": 190,
   "metadata": {},
   "outputs": [
    {
     "name": "stdout",
     "output_type": "stream",
     "text": [
      "[*********************100%***********************]  2 of 2 completed\n"
     ]
    },
    {
     "data": {
      "text/plain": [
       "(0.0, 0.725206291895021)"
      ]
     },
     "execution_count": 190,
     "metadata": {},
     "output_type": "execute_result"
    },
    {
     "data": {
      "image/png": "[encoded data removed]",
      "text/plain": [
       "<Figure size 432x288 with 1 Axes>"
      ]
     },
     "metadata": {
      "needs_background": "light"
     },
     "output_type": "display_data"
    }
   ],
   "source": [
    "# Get the data for Gold and GBP\n",
    "data = yf.download(['GLD','GBPUSD=X'],startdate,enddate, interval=\"1mo\")\n",
    "df = pd.DataFrame(data['Adj Close']).reset_index()\n",
    "\n",
    "\n",
    "df['GBP Gold']= df['GLD']/df['GBPUSD=X']\n",
    "df['GBP Gold Percent Change'] = df['GBP Gold'].pct_change().cumsum()\n",
    "\n",
    "df.plot(x='Date', y = 'GBP Gold Percent Change')\n",
    "plt.ylim(ymin=0)"
   ]
  },
  {
   "cell_type": "markdown",
   "metadata": {},
   "source": [
    "## FTSE 100"
   ]
  },
  {
   "cell_type": "markdown",
   "metadata": {},
   "source": [
    "Normalising Yahoo finance ^FTSE into percentage change"
   ]
  },
  {
   "cell_type": "code",
   "execution_count": 191,
   "metadata": {},
   "outputs": [
    {
     "name": "stdout",
     "output_type": "stream",
     "text": [
      "[*********************100%***********************]  1 of 1 completed\n"
     ]
    },
    {
     "data": {
      "text/plain": [
       "(0.0, 0.27213132165501197)"
      ]
     },
     "execution_count": 191,
     "metadata": {},
     "output_type": "execute_result"
    },
    {
     "data": {
      "image/png": "[encoded data removed]",
      "text/plain": [
       "<Figure size 432x288 with 1 Axes>"
      ]
     },
     "metadata": {
      "needs_background": "light"
     },
     "output_type": "display_data"
    }
   ],
   "source": [
    "\n",
    "data = yf.download(['^FTSE'],startdate,enddate, interval=\"1mo\")\n",
    "df = pd.DataFrame(data['Adj Close']).reset_index()\n",
    "\n",
    "\n",
    "df['FTSE 100 Percent Change']=df['Adj Close'].pct_change().cumsum()\n",
    "\n",
    "df.plot(x='Date', y = 'FTSE 100 Percent Change')\n",
    "plt.ylim(ymin=0)"
   ]
  },
  {
   "cell_type": "markdown",
   "metadata": {},
   "source": [
    "## Bitcoin in GBP"
   ]
  },
  {
   "cell_type": "markdown",
   "metadata": {},
   "source": [
    "Normalising Yahoo finance BTC-GBP into percentage change"
   ]
  },
  {
   "cell_type": "code",
   "execution_count": 192,
   "metadata": {},
   "outputs": [
    {
     "name": "stdout",
     "output_type": "stream",
     "text": [
      "[*********************100%***********************]  1 of 1 completed\n"
     ]
    },
    {
     "data": {
      "text/plain": [
       "(0.0, 7.515716491075618)"
      ]
     },
     "execution_count": 192,
     "metadata": {},
     "output_type": "execute_result"
    },
    {
     "data": {
      "image/png": "[encoded data removed]",
      "text/plain": [
       "<Figure size 432x288 with 1 Axes>"
      ]
     },
     "metadata": {
      "needs_background": "light"
     },
     "output_type": "display_data"
    }
   ],
   "source": [
    "\n",
    "data = yf.download(['BTC-GBP'],startdate,enddate, interval=\"1mo\")\n",
    "df = pd.DataFrame(data['Adj Close']).reset_index()\n",
    "\n",
    "\n",
    "df['BTC Percent Change']=df['Adj Close'].pct_change().cumsum()\n",
    "\n",
    "df.plot(x='Date', y = 'BTC Percent Change')\n",
    "plt.ylim(ymin=0)"
   ]
  }
 ],
 "metadata": {
  "interpreter": {
   "hash": "916dbcbb3f70747c44a77c7bcd40155683ae19c65e1c03b4aa3499c5328201f1"
  },
  "kernelspec": {
   "display_name": "Python 3.9.7 64-bit",
   "language": "python",
   "name": "python3"
  },
  "language_info": {
   "codemirror_mode": {
    "name": "ipython",
    "version": 3
   },
   "file_extension": ".py",
   "mimetype": "text/x-python",
   "name": "python",
   "nbconvert_exporter": "python",
   "pygments_lexer": "ipython3",
   "version": "3.9.7"
  },
  "orig_nbformat": 4
 },
 "nbformat": 4,
 "nbformat_minor": 2
}
